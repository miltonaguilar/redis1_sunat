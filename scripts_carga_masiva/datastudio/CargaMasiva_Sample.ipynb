{
    "cells": [
        {
            "cell_type": "code",
            "execution_count": 2,
            "metadata": {
                "azdata_cell_guid": "c115be61-4bcd-41ed-b7de-065fe5009851",
                "language": "python"
            },
            "outputs": [
                {
                    "name": "stdout",
                    "output_type": "stream",
                    "text": [
                        "Usuarios y contraseñas generados y guardados en users.txt.\n"
                    ]
                }
            ],
            "source": [
                "#CREACION DE DATA\n",
                "import random\n",
                "import string\n",
                "\n",
                "CANTIDAD = 10\n",
                "\n",
                "# Función para generar una contraseña aleatoria\n",
                "def generate_password(length=8):\n",
                "    characters = string.ascii_letters + string.digits\n",
                "    return ''.join(random.choice(characters) for _ in range(length))\n",
                "\n",
                "# Genera CANTIDAD usuarios con contraseñas\n",
                "users = []\n",
                "for i in range(CANTIDAD):\n",
                "    username = f\"user{i + 1}\"\n",
                "    password = generate_password()\n",
                "    users.append(f\"{username},{password}\")\n",
                "\n",
                "# Guarda los usuarios en un archivo de texto\n",
                "with open(\"D:/MAGUILAR/CURSO-REDIS/TRABAJO/cargamasiva/data.txt\", \"w\") as file:\n",
                "    file.write(\"\\n\".join(users))\n",
                "\n",
                "print(\"Usuarios y contraseñas generados y guardados en users.txt.\")"
            ]
        },
        {
            "cell_type": "code",
            "execution_count": 6,
            "metadata": {
                "azdata_cell_guid": "be521b27-00d2-40b3-8780-8ff8968a88b5",
                "language": "python"
            },
            "outputs": [
                {
                    "name": "stdout",
                    "output_type": "stream",
                    "text": [
                        "Collecting redis\n",
                        "  Downloading redis-5.0.1-py3-none-any.whl.metadata (8.9 kB)\n",
                        "Collecting async-timeout>=4.0.2 (from redis)\n",
                        "  Downloading async_timeout-4.0.3-py3-none-any.whl.metadata (4.2 kB)\n",
                        "Downloading redis-5.0.1-py3-none-any.whl (250 kB)\n",
                        "   -------------------------------------- 250.3/250.3 kB 902.4 kB/s eta 0:00:00\n",
                        "Downloading async_timeout-4.0.3-py3-none-any.whl (5.7 kB)\n",
                        "Installing collected packages: async-timeout, redis\n",
                        "Successfully installed async-timeout-4.0.3 redis-5.0.1\n"
                    ]
                }
            ],
            "source": [
                "#INSTALACION DE REDIS\n",
                "!pip install redis"
            ]
        },
        {
            "cell_type": "code",
            "execution_count": 3,
            "metadata": {
                "azdata_cell_guid": "e1e95b70-a8e4-4abb-87f1-6048531a5d27",
                "language": "python"
            },
            "outputs": [
                {
                    "name": "stderr",
                    "output_type": "stream",
                    "text": [
                        "<ipython-input-3-9301da3abd27>:40: DeprecationWarning: Redis.hmset() is deprecated. Use Redis.hset() instead.\n",
                        "  r.hmset(\"user:{}\".format(userid),datos)\n"
                    ]
                },
                {
                    "name": "stdout",
                    "output_type": "stream",
                    "text": [
                        "Datos cargados exitosamente en Redis.\n"
                    ]
                }
            ],
            "source": [
                "#CARGA MASIVA DE DATOS\n",
                "import random\n",
                "import string\n",
                "import time\n",
                "import redis\n",
                "\n",
                "r = redis.Redis(\n",
                "  host='redis-18871.c13.us-east-1-3.ec2.cloud.redislabs.com',\n",
                "  port=18871,\n",
                "  password='ouu9GVbgA4rstxME9ZgqqMGFaseZ6Env')\n",
                "\n",
                "def generate_hash(length=16):\n",
                "    characters = string.ascii_letters + string.digits\n",
                "    return ''.join(random.choice(characters) for _ in range(length))\n",
                "\n",
                "# Abre el archivo de datos\n",
                "with open('D:/MAGUILAR/CURSO-REDIS/TRABAJO/cargamasiva/data.txt', 'r') as file:\n",
                "    # Lee línea por línea y carga los datos en Redis\n",
                "    for line in file:\n",
                "        username, password = line.strip().split(',')\n",
                "\n",
                "        if r.hget(\"users\", username):\n",
                "            print(\"Lo siento, el usuario {} seleccionado ya está en uso.\".format(username))\n",
                "\n",
                "        #Se obtiene el siguiente userid\n",
                "        userid = r.incr(\"next_user_id\")\n",
                "        authsecret = generate_hash()\n",
                "\n",
                "        #Se añade el usuario a la key users\n",
                "        r.hset(\"users\", username, userid)\n",
                "\n",
                "        datos = {\n",
                "            \"username\": username,\n",
                "            \"password\": password,\n",
                "            \"auth\": authsecret\n",
                "        }\n",
                "\n",
                "        #Se crea el registro del user:<CORRELATIVO>\n",
                "        r.hmset(\"user:{}\".format(userid),datos)\n",
                "\n",
                "        #Se crea un nuevo registro en la key auths\n",
                "        r.hset(\"auths\", authsecret, userid)\n",
                "\n",
                "        #Se crea un registro en la key users_by_time\n",
                "        r.zadd(\"users_by_time\", {username: int(time.time())})\n",
                "\n",
                "# Cierra la conexión a Redis\n",
                "r.connection_pool.disconnect()\n",
                "\n",
                "print(\"Datos cargados exitosamente en Redis.\")\n"
            ]
        },
        {
            "cell_type": "markdown",
            "metadata": {
                "azdata_cell_guid": "11efe25b-fea3-4a72-9db2-e71e27133d2e"
            },
            "source": []
        }
    ],
    "metadata": {
        "kernelspec": {
            "display_name": "Python 3",
            "language": "python",
            "name": "python3"
        },
        "language_info": {
            "codemirror_mode": {
                "name": "ipython",
                "version": 3
            },
            "file_extension": ".py",
            "mimetype": "text/x-python",
            "name": "python",
            "nbconvert_exporter": "python",
            "pygments_lexer": "ipython3",
            "version": "3.8.10"
        }
    },
    "nbformat": 4,
    "nbformat_minor": 2
}
