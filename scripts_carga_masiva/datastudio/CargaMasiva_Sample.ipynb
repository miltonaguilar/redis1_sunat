{
    "metadata": {
        "kernelspec": {
            "name": "python3",
            "display_name": "Python 3",
            "language": "python"
        },
        "language_info": {
            "name": "python",
            "version": "3.8.10",
            "mimetype": "text/x-python",
            "codemirror_mode": {
                "name": "ipython",
                "version": 3
            },
            "pygments_lexer": "ipython3",
            "nbconvert_exporter": "python",
            "file_extension": ".py"
        }
    },
    "nbformat_minor": 2,
    "nbformat": 4,
    "cells": [
        {
            "cell_type": "code",
            "source": [
                "#CREACION DE DATA\r\n",
                "import random\r\n",
                "import string\r\n",
                "\r\n",
                "CANTIDAD = 10\r\n",
                "\r\n",
                "# Función para generar una contraseña aleatoria\r\n",
                "def generate_password(length=8):\r\n",
                "    characters = string.ascii_letters + string.digits\r\n",
                "    return ''.join(random.choice(characters) for _ in range(length))\r\n",
                "\r\n",
                "# Genera CANTIDAD usuarios con contraseñas\r\n",
                "users = []\r\n",
                "for i in range(CANTIDAD):\r\n",
                "    username = f\"user{i + 1}\"\r\n",
                "    password = generate_password()\r\n",
                "    users.append(f\"{username},{password}\")\r\n",
                "\r\n",
                "# Guarda los usuarios en un archivo de texto\r\n",
                "with open(\"D:/MAGUILAR/CURSO-REDIS/TRABAJO/cargamasiva/data.txt\", \"w\") as file:\r\n",
                "    file.write(\"\\n\".join(users))\r\n",
                "\r\n",
                "print(\"Usuarios y contraseñas generados y guardados en users.txt.\")"
            ],
            "metadata": {
                "azdata_cell_guid": "c115be61-4bcd-41ed-b7de-065fe5009851",
                "language": "python"
            },
            "outputs": [
                {
                    "name": "stdout",
                    "text": "Usuarios y contraseñas generados y guardados en users.txt.\n",
                    "output_type": "stream"
                }
            ],
            "execution_count": 2
        },
        {
            "cell_type": "code",
            "source": [
                "#INSTALACION DE REDIS\r\n",
                "!pip install redis"
            ],
            "metadata": {
                "azdata_cell_guid": "be521b27-00d2-40b3-8780-8ff8968a88b5",
                "language": "python"
            },
            "outputs": [
                {
                    "output_type": "stream",
                    "name": "stdout",
                    "text": "Collecting redis\n  Downloading redis-5.0.1-py3-none-any.whl.metadata (8.9 kB)\nCollecting async-timeout>=4.0.2 (from redis)\n  Downloading async_timeout-4.0.3-py3-none-any.whl.metadata (4.2 kB)\nDownloading redis-5.0.1-py3-none-any.whl (250 kB)\n   -------------------------------------- 250.3/250.3 kB 902.4 kB/s eta 0:00:00\nDownloading async_timeout-4.0.3-py3-none-any.whl (5.7 kB)\nInstalling collected packages: async-timeout, redis\nSuccessfully installed async-timeout-4.0.3 redis-5.0.1\n"
                }
            ],
            "execution_count": 6
        },
        {
            "cell_type": "code",
            "source": [
                "#CARGA MASIVA DE DATOS\r\n",
                "import random\r\n",
                "import string\r\n",
                "import time\r\n",
                "import redis\r\n",
                "\r\n",
                "\r\n",
                "r = redis.Redis(\r\n",
                "    host='redis-16482.c15.us-east-1-2.ec2.cloud.redislabs.com',\r\n",
                "    port=16482,\r\n",
                "    password='u7kaMTO2MmgRj3gkRe8pvbVSfcn5C2M2'\r\n",
                ")\r\n",
                "\r\n",
                "def generate_hash(length=16):\r\n",
                "    characters = string.ascii_letters + string.digits\r\n",
                "    return ''.join(random.choice(characters) for _ in range(length))\r\n",
                "\r\n",
                "# Abre el archivo de datos\r\n",
                "with open('D:/MAGUILAR/CURSO-REDIS/TRABAJO/cargamasiva/data.txt', 'r') as file:\r\n",
                "    # Lee línea por línea y carga los datos en Redis\r\n",
                "    for line in file:\r\n",
                "        username, password = line.strip().split(',')\r\n",
                "\r\n",
                "        if r.hget(\"users\", username):\r\n",
                "            print(\"Lo siento, el usuario {} seleccionado ya está en uso.\".format(username))\r\n",
                "\r\n",
                "        #Se obtiene el siguiente userid\r\n",
                "        userid = r.incr(\"next_user_id\")\r\n",
                "        authsecret = generate_hash()\r\n",
                "\r\n",
                "        #Se añade el usuario a la key users\r\n",
                "        r.hset(\"users\", username, userid)\r\n",
                "\r\n",
                "        datos = {\r\n",
                "            \"username\": username,\r\n",
                "            \"password\": password,\r\n",
                "            \"auth\": authsecret\r\n",
                "        }\r\n",
                "\r\n",
                "        #Se crea el registro del user:<CORRELATIVO>\r\n",
                "        r.hmset(\"user:{}\".format(userid),datos)\r\n",
                "\r\n",
                "        #Se crea un nuevo registro en la key auths\r\n",
                "        r.hset(\"auths\", authsecret, userid)\r\n",
                "\r\n",
                "        #Se crea un registro en la key users_by_time\r\n",
                "        r.zadd(\"users_by_time\", {username: int(time.time())})\r\n",
                "\r\n",
                "# Cierra la conexión a Redis\r\n",
                "r.connection_pool.disconnect()\r\n",
                "\r\n",
                "print(\"Datos cargados exitosamente en Redis.\")\r\n",
                ""
            ],
            "metadata": {
                "azdata_cell_guid": "e1e95b70-a8e4-4abb-87f1-6048531a5d27",
                "language": "python"
            },
            "outputs": [
                {
                    "name": "stderr",
                    "text": "<ipython-input-3-9301da3abd27>:40: DeprecationWarning: Redis.hmset() is deprecated. Use Redis.hset() instead.\n  r.hmset(\"user:{}\".format(userid),datos)\n",
                    "output_type": "stream"
                },
                {
                    "name": "stdout",
                    "text": "Datos cargados exitosamente en Redis.\n",
                    "output_type": "stream"
                }
            ],
            "execution_count": 3
        },
        {
            "cell_type": "markdown",
            "source": [
                ""
            ],
            "metadata": {
                "azdata_cell_guid": "11efe25b-fea3-4a72-9db2-e71e27133d2e"
            }
        }
    ]
}